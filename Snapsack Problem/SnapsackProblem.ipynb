{
 "cells": [
  {
   "cell_type": "code",
   "execution_count": 93,
   "metadata": {},
   "outputs": [],
   "source": [
    "import numpy as np\n",
    "import math\n",
    "import sys\n",
    "import time\n",
    "import random\n",
    "import matplotlib.pyplot as plt\n",
    "\n",
    "class SAnnealing(object):\n",
    "\n",
    "    def __init__(self, step = 1, final_temperature=0.1, temperature = 100, alpha=0.95, equilibrium=10, time = 0, pesos = [], valores = [], capacity = 1):\n",
    "        self.step = step\n",
    "        self.temperature = temperature\n",
    "        self.final_temperature = final_temperature\n",
    "        self.alpha = alpha\n",
    "        self.equilibrium = equilibrium\n",
    "        self.time = time\n",
    "        self.pesos = pesos\n",
    "        self.valores = valores\n",
    "        self.capacity = capacity\n",
    "\n",
    "\n",
    "    def cost_function(self, f, x):\n",
    "        return f(self.valores, x)\n",
    "\n",
    "    def getTotalPeso(self, pesos: list, actual_solution: list) -> float:\n",
    "        totalPeso = 0\n",
    "        i = 0\n",
    "        for element in actual_solution:\n",
    "            if(element):\n",
    "                totalPeso += pesos[i]\n",
    "            i += 1\n",
    "        return totalPeso \n",
    "\n",
    "    def create_first_solution(self) -> list:\n",
    "        while(1): \n",
    "            firstSolution = []\n",
    "            for i in np.arange(len(self.pesos)):\n",
    "                firstSolution.append(random.randint(0,1))\n",
    "            if(self.getTotalPeso(self.pesos, firstSolution) <= self.capacity):\n",
    "                return firstSolution\n",
    "\n",
    "\n",
    "    def create_neighbor_solution(self, actual_solution: list) -> list:\n",
    "        while(1):\n",
    "            neighbor = actual_solution.copy()\n",
    "            randomIndex = random.randint(0,(len(actual_solution) - 1))\n",
    "            neighbor[randomIndex] = 0 if neighbor[randomIndex] == 1 else 1\n",
    "            if(self.getTotalPeso(self.pesos,neighbor) <= self.capacity):\n",
    "                return neighbor\n",
    "\n",
    "\n",
    "    def aceptance_probability(self, deltaE, temperature):\n",
    "        try:\n",
    "            r = math.exp(-deltaE/temperature)\n",
    "        except OverflowError:\n",
    "            r = float(\"inf\") \n",
    "        return r\n",
    "\n",
    "\n",
    "    def update_temperature(self, temperature):\n",
    "        return self.alpha * temperature\n",
    "\n",
    "\n",
    "    def fit(self, objetive):\n",
    "        self.cost_ = []\n",
    "        actual_solution = self.create_first_solution()\n",
    "        best_solution = actual_solution.copy()\n",
    "        epoch = 0\n",
    "        number_tested_solution = 0\n",
    "        aceptanced = 100\n",
    "        while (self.temperature > self.final_temperature):\n",
    "            \n",
    "            number_worst_solution_acepted = 0\n",
    "            i = 0\n",
    "            while (i < self.equilibrium):\n",
    "                random_solution = self.create_neighbor_solution(actual_solution)\n",
    "                number_tested_solution += 1\n",
    "                delta_E = self.cost_function(objetive, random_solution) - self.cost_function(objetive, actual_solution)\n",
    "                if delta_E > 0:\n",
    "                    actual_solution = random_solution.copy()\n",
    "                else:\n",
    "                    deg_deltaE = self.aceptance_probability(-delta_E, self.temperature)\n",
    "                    if(np.random.uniform(0, 1) < deg_deltaE):\n",
    "                        actual_solution = random_solution.copy()\n",
    "                        number_worst_solution_acepted += 1\n",
    "                x = self.cost_function(objetive, actual_solution)\n",
    "                self.cost_.append((x,1))\n",
    "                epoch_strlen = len(str(epoch))\n",
    "                sys.stderr.write('\\r%0*d Epoch | Equilibrium %d | Temperature %.2f '\n",
    "                                '| Cost function: %.2f | Aceptance : %.2f' \n",
    "                        %\n",
    "                        (epoch_strlen, epoch+1, i+1, self.temperature, \n",
    "                        x, aceptanced ))\n",
    "                time.sleep(self.time)\n",
    "                sys.stderr.flush()\n",
    "                i += 1\n",
    "                epoch += 1\n",
    "            aceptanced = number_worst_solution_acepted * 100 /number_tested_solution\n",
    "            self.temperature = self.update_temperature(self.temperature)\n",
    "        print(actual_solution)\n",
    "            "
   ]
  },
  {
   "cell_type": "code",
   "execution_count": 102,
   "metadata": {},
   "outputs": [],
   "source": [
    "import csv\n",
    "\n",
    "pesos = []\n",
    "with open('./data/p20.csv', 'r', newline='') as file:\n",
    "  myreader = csv.reader(file, delimiter=',')\n",
    "  for rows in myreader:\n",
    "   pesos.append(rows)\n",
    "pesos = np.array(pesos).astype(\"float\")\n",
    "\n",
    "valores = []\n",
    "with open('./data/v20.csv', 'r', newline='') as file:\n",
    "  myreader = csv.reader(file, delimiter=',')\n",
    "  for rows in myreader:\n",
    "   valores.append(rows)\n",
    "valores = np.array(valores).astype(\"float\")\n",
    "\n",
    "capacidad = 50\n",
    "\n",
    "def getTotalValor(valores: list, actual_solution: list) -> float:\n",
    "    totalValor = 0\n",
    "    i = 0\n",
    "    for element in actual_solution:\n",
    "        if(element):\n",
    "            totalValor += float(valores[i])\n",
    "        i += 1\n",
    "    return totalValor"
   ]
  },
  {
   "cell_type": "code",
   "execution_count": 103,
   "metadata": {},
   "outputs": [
    {
     "name": "stderr",
     "output_type": "stream",
     "text": [
      "8100 Epoch | Equilibrium 30 | Temperature 0.10 | Cost function: 143.00 | Aceptance : 0.0065690"
     ]
    },
    {
     "name": "stdout",
     "output_type": "stream",
     "text": [
      "[0, 0, 1, 0, 0, 0, 1, 0, 1, 1, 0, 0, 0, 1, 0, 0, 0, 0, 1, 1]\n"
     ]
    }
   ],
   "source": [
    "sa = SAnnealing(step = 1, final_temperature=0.1, temperature = 100000, alpha=0.95, equilibrium=30, time = 0, pesos=pesos, valores=valores, capacity=capacidad)\n",
    "sa.fit(getTotalValor)"
   ]
  },
  {
   "cell_type": "code",
   "execution_count": 104,
   "metadata": {},
   "outputs": [
    {
     "data": {
      "image/png": "[encoded data removed]",
      "text/plain": [
       "<Figure size 640x480 with 1 Axes>"
      ]
     },
     "metadata": {},
     "output_type": "display_data"
    }
   ],
   "source": [
    "plt.plot(range(len(sa.cost_)), [x[0] for x in sa.cost_ ])\n",
    "plt.show()"
   ]
  },
  {
   "cell_type": "code",
   "execution_count": null,
   "metadata": {},
   "outputs": [],
   "source": []
  }
 ],
 "metadata": {
  "kernelspec": {
   "display_name": "base",
   "language": "python",
   "name": "python3"
  },
  "language_info": {
   "codemirror_mode": {
    "name": "ipython",
    "version": 3
   },
   "file_extension": ".py",
   "mimetype": "text/x-python",
   "name": "python",
   "nbconvert_exporter": "python",
   "pygments_lexer": "ipython3",
   "version": "3.9.13"
  },
  "orig_nbformat": 4
 },
 "nbformat": 4,
 "nbformat_minor": 2
}
