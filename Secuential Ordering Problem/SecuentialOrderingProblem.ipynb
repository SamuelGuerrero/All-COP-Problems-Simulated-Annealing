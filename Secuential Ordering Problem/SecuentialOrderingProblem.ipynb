{
 "cells": [
  {
   "cell_type": "code",
   "execution_count": 1,
   "metadata": {},
   "outputs": [],
   "source": [
    "import numpy as np\n",
    "import math\n",
    "import sys\n",
    "import time\n",
    "import random\n",
    "import matplotlib.pyplot as plt\n",
    "\n",
    "class SAnnealing(object):\n",
    "\n",
    "    def __init__(self, step = 1, final_temperature=0.1, temperature = 100, alpha=0.95, equilibrium=10, time = 0, data = []):\n",
    "        self.step = step\n",
    "        self.temperature = temperature\n",
    "        self.final_temperature = final_temperature\n",
    "        self.alpha = alpha\n",
    "        self.equilibrium = equilibrium\n",
    "        self.time = time\n",
    "        self.data = data\n",
    "\n",
    "\n",
    "    def cost_function(self, f, x):\n",
    "        return f(self.data,x)\n",
    "\n",
    "    def create_first_solution(self) -> list:\n",
    "        first_solution = list(range(1, self.data.shape[0]+1))\n",
    "        random.shuffle(first_solution)\n",
    "        return first_solution\n",
    "\n",
    "    def create_neighbor_solution(self, actual_solution: list) -> list:\n",
    "        neighbor = actual_solution.copy()\n",
    "        index1 = random.randint(0, len(neighbor)-1)\n",
    "        number = neighbor[index1]\n",
    "\n",
    "        while(1):\n",
    "            index2 = random.randint(0, len(neighbor)-1)\n",
    "            if index2 != index1:\n",
    "                break\n",
    "        neighbor[index1] = neighbor[index2]\n",
    "        neighbor[index2] = number\n",
    "        \n",
    "        return neighbor\n",
    "\n",
    "    def aceptance_probability(self, deltaE, temperature):\n",
    "        try:\n",
    "            r = math.exp(-deltaE/temperature)\n",
    "        except OverflowError:\n",
    "            r = float(\"inf\") \n",
    "        return r\n",
    "\n",
    "    def update_temperature(self, temperature):\n",
    "        return self.alpha * temperature\n",
    "\n",
    "    def fit(self, objetive):\n",
    "        self.cost_ = []\n",
    "        actual_solution = self.create_first_solution()\n",
    "        best_solution = actual_solution.copy()\n",
    "        epoch = 0\n",
    "        number_tested_solution = 0\n",
    "        aceptanced = 100\n",
    "        while (self.temperature > self.final_temperature):\n",
    "            \n",
    "            number_worst_solution_acepted = 0\n",
    "            i = 0\n",
    "            while (i < self.equilibrium):\n",
    "                random_solution = self.create_neighbor_solution(actual_solution)\n",
    "                number_tested_solution += 1\n",
    "                delta_E = self.cost_function(objetive, random_solution) - self.cost_function(objetive, actual_solution)\n",
    "                if delta_E < 0:\n",
    "                    actual_solution = random_solution.copy()\n",
    "                else:\n",
    "                    deg_deltaE = self.aceptance_probability(delta_E, self.temperature)\n",
    "                    if(np.random.uniform(0, 1) < deg_deltaE):\n",
    "                        actual_solution = random_solution.copy()\n",
    "                        number_worst_solution_acepted += 1\n",
    "                x= self.cost_function(objetive, actual_solution)\n",
    "                self.cost_.append((x,1))\n",
    "                epoch_strlen = len(str(epoch))\n",
    "                sys.stderr.write('\\r%0*d Epoch | Equilibrium %d | Temperature %.2f '\n",
    "                                '| Cost function: %.2f | Aceptance : %.2f' \n",
    "                        %\n",
    "                        (epoch_strlen, epoch+1, i+1, self.temperature, \n",
    "                        x, aceptanced ))\n",
    "                time.sleep(self.time)\n",
    "                sys.stderr.flush()\n",
    "                i += 1\n",
    "                epoch += 1\n",
    "            aceptanced = number_worst_solution_acepted * 100 /number_tested_solution\n",
    "            self.temperature = self.update_temperature(self.temperature)\n",
    "            "
   ]
  },
  {
   "cell_type": "code",
   "execution_count": 4,
   "metadata": {},
   "outputs": [],
   "source": [
    "\n",
    "def create_first_solution() -> list:\n",
    "    first_solution = list(range(1, 9))\n",
    "    random.shuffle(first_solution)\n",
    "    first_solution.insert(0,0)\n",
    "    return first_solution"
   ]
  },
  {
   "cell_type": "code",
   "execution_count": 6,
   "metadata": {},
   "outputs": [
    {
     "name": "stdout",
     "output_type": "stream",
     "text": [
      "[0, 6, 7, 1, 2, 3, 4, 5, 8]\n"
     ]
    }
   ],
   "source": [
    "print(create_first_solution())\n",
    "prescendecias = [(5,1), (8,4), (3,7),(2,6)]"
   ]
  },
  {
   "cell_type": "code",
   "execution_count": null,
   "metadata": {},
   "outputs": [],
   "source": [
    "def verificar_solution(actual_solution: list, prescendecias: list) -> bool:\n",
    "    for prescendecia in prescendecias:\n",
    "        first_element = prescendecia[0]\n",
    "        second_first  ="
   ]
  }
 ],
 "metadata": {
  "kernelspec": {
   "display_name": "base",
   "language": "python",
   "name": "python3"
  },
  "language_info": {
   "codemirror_mode": {
    "name": "ipython",
    "version": 3
   },
   "file_extension": ".py",
   "mimetype": "text/x-python",
   "name": "python",
   "nbconvert_exporter": "python",
   "pygments_lexer": "ipython3",
   "version": "3.9.13"
  },
  "orig_nbformat": 4,
  "vscode": {
   "interpreter": {
    "hash": "c14f41374dbb612a0292eebaaf090172280b3adf285e3ec4359a9bfcd044704b"
   }
  }
 },
 "nbformat": 4,
 "nbformat_minor": 2
}
