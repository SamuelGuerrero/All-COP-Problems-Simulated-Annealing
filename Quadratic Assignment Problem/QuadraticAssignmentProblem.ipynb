{
 "cells": [
  {
   "cell_type": "code",
   "execution_count": 63,
   "metadata": {},
   "outputs": [],
   "source": [
    "import numpy as np\n",
    "import math\n",
    "import sys\n",
    "import time\n",
    "import random\n",
    "import matplotlib.pyplot as plt\n",
    "\n",
    "class SAnnealing(object):\n",
    "\n",
    "    def __init__(self, step = 1, final_temperature=0.1, temperature = 100, alpha=0.95, equilibrium=10, time = 0, matrixA = [], matrixB = []):\n",
    "        self.step = step\n",
    "        self.temperature = temperature\n",
    "        self.final_temperature = final_temperature\n",
    "        self.alpha = alpha\n",
    "        self.equilibrium = equilibrium\n",
    "        self.time = time\n",
    "        self.matrixA = matrixA\n",
    "        self.matrixB = matrixB\n",
    "\n",
    "    def cost_function(self, f, x):\n",
    "        return f(self.matrixA, self.matrixB, x)\n",
    "\n",
    "    def create_first_solution(self) -> list:\n",
    "        first_solution = list(range(1, self.matrixA.shape[0]+1))\n",
    "        random.shuffle(first_solution)\n",
    "        return first_solution\n",
    "\n",
    "    def create_neighbor_solution(self, actual_solution: list) -> list:\n",
    "        neighbor = actual_solution.copy()\n",
    "        index1 = random.randint(0, len(neighbor)-1)\n",
    "        number = neighbor[index1]\n",
    "\n",
    "        while(1):\n",
    "            index2 = random.randint(0, len(neighbor)-1)\n",
    "            if index2 != index1:\n",
    "                break\n",
    "        neighbor[index1] = neighbor[index2]\n",
    "        neighbor[index2] = number\n",
    "        \n",
    "        return neighbor\n",
    "\n",
    "\n",
    "    def aceptance_probability(self, deltaE, temperature):\n",
    "        try:\n",
    "            r = math.exp(-deltaE/temperature)\n",
    "        except OverflowError:\n",
    "            r = float(\"inf\") \n",
    "        return r\n",
    "\n",
    "\n",
    "    def update_temperature(self, temperature):\n",
    "        return self.alpha * temperature\n",
    "\n",
    "\n",
    "    def fit(self, objetive):\n",
    "        self.cost_ = []\n",
    "        actual_solution = self.create_first_solution()\n",
    "        epoch = 0\n",
    "        number_tested_solution = 0\n",
    "        aceptanced = 100\n",
    "        while (self.temperature > self.final_temperature):\n",
    "            \n",
    "            number_worst_solution_acepted = 0\n",
    "            i = 0\n",
    "            while (i < self.equilibrium):\n",
    "                random_solution = self.create_neighbor_solution(actual_solution)\n",
    "                number_tested_solution += 1\n",
    "                delta_E = self.cost_function(objetive, random_solution) - self.cost_function(objetive, actual_solution)\n",
    "                if delta_E < 0:\n",
    "                    actual_solution = random_solution.copy()\n",
    "                else:\n",
    "                    deg_deltaE = self.aceptance_probability(delta_E, self.temperature)\n",
    "                    if(np.random.uniform(0, 1) < deg_deltaE):\n",
    "                        actual_solution = random_solution.copy()\n",
    "                        number_worst_solution_acepted += 1\n",
    "                x= self.cost_function(objetive, actual_solution)\n",
    "                self.cost_.append((x,1))\n",
    "                epoch_strlen = len(str(epoch))\n",
    "                sys.stderr.write('\\r%0*d Epoch | Equilibrium %d | Temperature %.2f '\n",
    "                                '| Cost function: %.2f | Aceptance : %.2f' \n",
    "                        %\n",
    "                        (epoch_strlen, epoch+1, i+1, self.temperature, \n",
    "                        x, aceptanced ))\n",
    "                time.sleep(self.time)\n",
    "                sys.stderr.flush()\n",
    "                i += 1\n",
    "                epoch += 1\n",
    "            aceptanced = number_worst_solution_acepted * 100 /number_tested_solution\n",
    "            self.temperature = self.update_temperature(self.temperature)\n",
    "        print(actual_solution)\n",
    "            "
   ]
  },
  {
   "cell_type": "code",
   "execution_count": 64,
   "metadata": {},
   "outputs": [],
   "source": [
    "import csv\n",
    "\n",
    "matrixA = []\n",
    "with open('./data/n_12/chr12a.csv', 'r', newline='') as file:\n",
    "  myreader = csv.reader(file, delimiter=',')\n",
    "  for rows in myreader:\n",
    "   matrixA.append(rows)\n",
    "matrixA = np.array(matrixA).astype(\"float\")\n",
    "\n",
    "matrixB = []\n",
    "with open('./data/n_12/chr12b.csv', 'r', newline='') as file:\n",
    "  myreader = csv.reader(file, delimiter=',')\n",
    "  for rows in myreader:\n",
    "   matrixB.append(rows)\n",
    "matrixB = np.array(matrixB).astype(\"float\")"
   ]
  },
  {
   "cell_type": "code",
   "execution_count": 65,
   "metadata": {},
   "outputs": [
    {
     "name": "stdout",
     "output_type": "stream",
     "text": [
      "9742.0\n"
     ]
    }
   ],
   "source": [
    "def costo(matrixA, matrixB, actual_solution):\n",
    "    cost = 0\n",
    "    for i in np.arange((len(matrixA))):\n",
    "        for j in np.arange((len(matrixA))):      \n",
    "            cost += matrixA[i][j] * matrixB[actual_solution[i]-1][actual_solution[j]-1]\n",
    "    return cost\n",
    "\n",
    "print(costo(matrixA, matrixB, [5,7,1,10,11,3,4,2,9,6,12,8]))"
   ]
  },
  {
   "cell_type": "code",
   "execution_count": 66,
   "metadata": {},
   "outputs": [
    {
     "name": "stderr",
     "output_type": "stream",
     "text": [
      "9450 Epoch | Equilibrium 30 | Temperature 0.01 | Cost function: 9742.00 | Aceptance : 0.00020660"
     ]
    },
    {
     "name": "stdout",
     "output_type": "stream",
     "text": [
      "[5, 7, 1, 10, 11, 3, 4, 2, 9, 6, 12, 8]\n"
     ]
    }
   ],
   "source": [
    "sa = SAnnealing(step = 1, final_temperature=0.01, temperature = 100000, alpha=0.95, equilibrium=30, time = 0, matrixA=matrixA, matrixB=matrixB)\n",
    "sa.fit(costo)"
   ]
  },
  {
   "cell_type": "code",
   "execution_count": 67,
   "metadata": {},
   "outputs": [
    {
     "data": {
      "image/png": "[encoded data removed]",
      "text/plain": [
       "<Figure size 640x480 with 1 Axes>"
      ]
     },
     "metadata": {},
     "output_type": "display_data"
    }
   ],
   "source": [
    "plt.plot(range(len(sa.cost_)), [x[0] for x in sa.cost_ ])\n",
    "plt.show()"
   ]
  },
  {
   "cell_type": "code",
   "execution_count": null,
   "metadata": {},
   "outputs": [],
   "source": []
  }
 ],
 "metadata": {
  "kernelspec": {
   "display_name": "base",
   "language": "python",
   "name": "python3"
  },
  "language_info": {
   "codemirror_mode": {
    "name": "ipython",
    "version": 3
   },
   "file_extension": ".py",
   "mimetype": "text/x-python",
   "name": "python",
   "nbconvert_exporter": "python",
   "pygments_lexer": "ipython3",
   "version": "3.9.13"
  },
  "orig_nbformat": 4,
  "vscode": {
   "interpreter": {
    "hash": "c14f41374dbb612a0292eebaaf090172280b3adf285e3ec4359a9bfcd044704b"
   }
  }
 },
 "nbformat": 4,
 "nbformat_minor": 2
}
